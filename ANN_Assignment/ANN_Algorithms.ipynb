{
  "nbformat": 4,
  "nbformat_minor": 0,
  "metadata": {
    "colab": {
      "name": "ANN_Algorithms.ipynb",
      "provenance": [],
      "collapsed_sections": [],
      "authorship_tag": "ABX9TyMuPwov7BaIYhSVEqy499Oj",
      "include_colab_link": true
    },
    "kernelspec": {
      "name": "python3",
      "display_name": "Python 3"
    },
    "language_info": {
      "name": "python"
    }
  },
  "cells": [
    {
      "cell_type": "markdown",
      "metadata": {
        "id": "view-in-github",
        "colab_type": "text"
      },
      "source": [
        "<a href=\"https://colab.research.google.com/github/mamathaguntu/CMPE255/blob/master/ANN_Assignment/ANN_Algorithms.ipynb\" target=\"_parent\"><img src=\"https://colab.research.google.com/assets/colab-badge.svg\" alt=\"Open In Colab\"/></a>"
      ]
    },
    {
      "cell_type": "markdown",
      "metadata": {
        "id": "w7tqQ_Vv5ETs"
      },
      "source": [
        "##Approximate nearest neighbor search algorithms##\n",
        "\n",
        "Data used - Movie lens data from LightGM \n",
        "https://making.lyst.com/lightfm/docs/datasets.html\n",
        "\n",
        "\n",
        "\n",
        "This data set contains 100,000 interactions from 1000 users on 1700 movies.\n",
        "\n",
        "\n",
        "fetch_movielens() returns \n",
        "\n",
        "\n",
        "*   train \n",
        "*   test\n",
        "*   item_features\n",
        "*   item_feature_labels\n",
        "*   item_labels\n",
        "\n",
        "upon which the ANN algorithms are applied to find similar movies.\n",
        "\n",
        "Algorithms used are - \n",
        "\n",
        "\n",
        "*   LSH\n",
        "*   Exhaustive search\n",
        "*   Product quantization\n",
        "*   Trees and Graphs\n",
        "*   HNSW\n",
        "\n",
        "\n",
        "\n",
        "\n"
      ]
    },
    {
      "cell_type": "markdown",
      "metadata": {
        "id": "zGnhjZ7q8gu8"
      },
      "source": [
        "**Import libraries and install required packages**"
      ]
    },
    {
      "cell_type": "code",
      "metadata": {
        "colab": {
          "base_uri": "https://localhost:8080/"
        },
        "id": "G15L5spM8kX1",
        "outputId": "ab6bb737-a071-44db-8431-70b5133f7b27"
      },
      "source": [
        "!pip install annoy\n",
        "import annoy"
      ],
      "execution_count": 20,
      "outputs": [
        {
          "output_type": "stream",
          "name": "stdout",
          "text": [
            "Collecting annoy\n",
            "  Downloading annoy-1.17.0.tar.gz (646 kB)\n",
            "\u001b[?25l\r\u001b[K     |▌                               | 10 kB 21.0 MB/s eta 0:00:01\r\u001b[K     |█                               | 20 kB 24.3 MB/s eta 0:00:01\r\u001b[K     |█▌                              | 30 kB 26.3 MB/s eta 0:00:01\r\u001b[K     |██                              | 40 kB 27.3 MB/s eta 0:00:01\r\u001b[K     |██▌                             | 51 kB 29.3 MB/s eta 0:00:01\r\u001b[K     |███                             | 61 kB 27.4 MB/s eta 0:00:01\r\u001b[K     |███▌                            | 71 kB 26.8 MB/s eta 0:00:01\r\u001b[K     |████                            | 81 kB 26.7 MB/s eta 0:00:01\r\u001b[K     |████▋                           | 92 kB 28.3 MB/s eta 0:00:01\r\u001b[K     |█████                           | 102 kB 29.8 MB/s eta 0:00:01\r\u001b[K     |█████▋                          | 112 kB 29.8 MB/s eta 0:00:01\r\u001b[K     |██████                          | 122 kB 29.8 MB/s eta 0:00:01\r\u001b[K     |██████▋                         | 133 kB 29.8 MB/s eta 0:00:01\r\u001b[K     |███████                         | 143 kB 29.8 MB/s eta 0:00:01\r\u001b[K     |███████▋                        | 153 kB 29.8 MB/s eta 0:00:01\r\u001b[K     |████████▏                       | 163 kB 29.8 MB/s eta 0:00:01\r\u001b[K     |████████▋                       | 174 kB 29.8 MB/s eta 0:00:01\r\u001b[K     |█████████▏                      | 184 kB 29.8 MB/s eta 0:00:01\r\u001b[K     |█████████▋                      | 194 kB 29.8 MB/s eta 0:00:01\r\u001b[K     |██████████▏                     | 204 kB 29.8 MB/s eta 0:00:01\r\u001b[K     |██████████▋                     | 215 kB 29.8 MB/s eta 0:00:01\r\u001b[K     |███████████▏                    | 225 kB 29.8 MB/s eta 0:00:01\r\u001b[K     |███████████▋                    | 235 kB 29.8 MB/s eta 0:00:01\r\u001b[K     |████████████▏                   | 245 kB 29.8 MB/s eta 0:00:01\r\u001b[K     |████████████▊                   | 256 kB 29.8 MB/s eta 0:00:01\r\u001b[K     |█████████████▏                  | 266 kB 29.8 MB/s eta 0:00:01\r\u001b[K     |█████████████▊                  | 276 kB 29.8 MB/s eta 0:00:01\r\u001b[K     |██████████████▏                 | 286 kB 29.8 MB/s eta 0:00:01\r\u001b[K     |██████████████▊                 | 296 kB 29.8 MB/s eta 0:00:01\r\u001b[K     |███████████████▏                | 307 kB 29.8 MB/s eta 0:00:01\r\u001b[K     |███████████████▊                | 317 kB 29.8 MB/s eta 0:00:01\r\u001b[K     |████████████████▎               | 327 kB 29.8 MB/s eta 0:00:01\r\u001b[K     |████████████████▊               | 337 kB 29.8 MB/s eta 0:00:01\r\u001b[K     |█████████████████▎              | 348 kB 29.8 MB/s eta 0:00:01\r\u001b[K     |█████████████████▊              | 358 kB 29.8 MB/s eta 0:00:01\r\u001b[K     |██████████████████▎             | 368 kB 29.8 MB/s eta 0:00:01\r\u001b[K     |██████████████████▊             | 378 kB 29.8 MB/s eta 0:00:01\r\u001b[K     |███████████████████▎            | 389 kB 29.8 MB/s eta 0:00:01\r\u001b[K     |███████████████████▊            | 399 kB 29.8 MB/s eta 0:00:01\r\u001b[K     |████████████████████▎           | 409 kB 29.8 MB/s eta 0:00:01\r\u001b[K     |████████████████████▉           | 419 kB 29.8 MB/s eta 0:00:01\r\u001b[K     |█████████████████████▎          | 430 kB 29.8 MB/s eta 0:00:01\r\u001b[K     |█████████████████████▉          | 440 kB 29.8 MB/s eta 0:00:01\r\u001b[K     |██████████████████████▎         | 450 kB 29.8 MB/s eta 0:00:01\r\u001b[K     |██████████████████████▉         | 460 kB 29.8 MB/s eta 0:00:01\r\u001b[K     |███████████████████████▎        | 471 kB 29.8 MB/s eta 0:00:01\r\u001b[K     |███████████████████████▉        | 481 kB 29.8 MB/s eta 0:00:01\r\u001b[K     |████████████████████████▍       | 491 kB 29.8 MB/s eta 0:00:01\r\u001b[K     |████████████████████████▉       | 501 kB 29.8 MB/s eta 0:00:01\r\u001b[K     |█████████████████████████▍      | 512 kB 29.8 MB/s eta 0:00:01\r\u001b[K     |█████████████████████████▉      | 522 kB 29.8 MB/s eta 0:00:01\r\u001b[K     |██████████████████████████▍     | 532 kB 29.8 MB/s eta 0:00:01\r\u001b[K     |██████████████████████████▉     | 542 kB 29.8 MB/s eta 0:00:01\r\u001b[K     |███████████████████████████▍    | 552 kB 29.8 MB/s eta 0:00:01\r\u001b[K     |███████████████████████████▉    | 563 kB 29.8 MB/s eta 0:00:01\r\u001b[K     |████████████████████████████▍   | 573 kB 29.8 MB/s eta 0:00:01\r\u001b[K     |█████████████████████████████   | 583 kB 29.8 MB/s eta 0:00:01\r\u001b[K     |█████████████████████████████▍  | 593 kB 29.8 MB/s eta 0:00:01\r\u001b[K     |██████████████████████████████  | 604 kB 29.8 MB/s eta 0:00:01\r\u001b[K     |██████████████████████████████▍ | 614 kB 29.8 MB/s eta 0:00:01\r\u001b[K     |███████████████████████████████ | 624 kB 29.8 MB/s eta 0:00:01\r\u001b[K     |███████████████████████████████▍| 634 kB 29.8 MB/s eta 0:00:01\r\u001b[K     |████████████████████████████████| 645 kB 29.8 MB/s eta 0:00:01\r\u001b[K     |████████████████████████████████| 646 kB 29.8 MB/s \n",
            "\u001b[?25hBuilding wheels for collected packages: annoy\n",
            "  Building wheel for annoy (setup.py) ... \u001b[?25l\u001b[?25hdone\n",
            "  Created wheel for annoy: filename=annoy-1.17.0-cp37-cp37m-linux_x86_64.whl size=391677 sha256=4932557e1a4333afc72ca8d0a4a0c619e463c55bc7d05beabf1fe8ca68ffa6f1\n",
            "  Stored in directory: /root/.cache/pip/wheels/4f/e8/1e/7cc9ebbfa87a3b9f8ba79408d4d31831d67eea918b679a4c07\n",
            "Successfully built annoy\n",
            "Installing collected packages: annoy\n",
            "Successfully installed annoy-1.17.0\n"
          ]
        }
      ]
    },
    {
      "cell_type": "code",
      "metadata": {
        "colab": {
          "base_uri": "https://localhost:8080/"
        },
        "id": "RX8QpHDO42En",
        "outputId": "d35f6f70-bfec-4a50-e197-547b8d468411"
      },
      "source": [
        "!apt install libomp-dev\n",
        "!pip install faiss"
      ],
      "execution_count": 1,
      "outputs": [
        {
          "output_type": "stream",
          "name": "stdout",
          "text": [
            "Reading package lists... Done\n",
            "Building dependency tree       \n",
            "Reading state information... Done\n",
            "The following additional packages will be installed:\n",
            "  libomp5\n",
            "Suggested packages:\n",
            "  libomp-doc\n",
            "The following NEW packages will be installed:\n",
            "  libomp-dev libomp5\n",
            "0 upgraded, 2 newly installed, 0 to remove and 37 not upgraded.\n",
            "Need to get 239 kB of archives.\n",
            "After this operation, 804 kB of additional disk space will be used.\n",
            "Get:1 http://archive.ubuntu.com/ubuntu bionic/universe amd64 libomp5 amd64 5.0.1-1 [234 kB]\n",
            "Get:2 http://archive.ubuntu.com/ubuntu bionic/universe amd64 libomp-dev amd64 5.0.1-1 [5,088 B]\n",
            "Fetched 239 kB in 1s (420 kB/s)\n",
            "Selecting previously unselected package libomp5:amd64.\n",
            "(Reading database ... 155222 files and directories currently installed.)\n",
            "Preparing to unpack .../libomp5_5.0.1-1_amd64.deb ...\n",
            "Unpacking libomp5:amd64 (5.0.1-1) ...\n",
            "Selecting previously unselected package libomp-dev.\n",
            "Preparing to unpack .../libomp-dev_5.0.1-1_amd64.deb ...\n",
            "Unpacking libomp-dev (5.0.1-1) ...\n",
            "Setting up libomp5:amd64 (5.0.1-1) ...\n",
            "Setting up libomp-dev (5.0.1-1) ...\n",
            "Processing triggers for libc-bin (2.27-3ubuntu1.3) ...\n",
            "/sbin/ldconfig.real: /usr/local/lib/python3.7/dist-packages/ideep4py/lib/libmkldnn.so.0 is not a symbolic link\n",
            "\n",
            "Collecting faiss\n",
            "  Downloading faiss-1.5.3-cp37-cp37m-manylinux1_x86_64.whl (4.7 MB)\n",
            "\u001b[K     |████████████████████████████████| 4.7 MB 26.1 MB/s \n",
            "\u001b[?25hRequirement already satisfied: numpy in /usr/local/lib/python3.7/dist-packages (from faiss) (1.19.5)\n",
            "Installing collected packages: faiss\n",
            "Successfully installed faiss-1.5.3\n"
          ]
        }
      ]
    },
    {
      "cell_type": "code",
      "metadata": {
        "id": "p-bHPji342lv"
      },
      "source": [
        "import faiss"
      ],
      "execution_count": 2,
      "outputs": []
    },
    {
      "cell_type": "code",
      "metadata": {
        "colab": {
          "base_uri": "https://localhost:8080/"
        },
        "id": "p0updzwt4_Ic",
        "outputId": "f5795d97-7395-4893-c8b8-7c23e68f4ea1"
      },
      "source": [
        "!pip install lightfm"
      ],
      "execution_count": 3,
      "outputs": [
        {
          "output_type": "stream",
          "name": "stdout",
          "text": [
            "Collecting lightfm\n",
            "  Downloading lightfm-1.16.tar.gz (310 kB)\n",
            "\u001b[?25l\r\u001b[K     |█                               | 10 kB 21.7 MB/s eta 0:00:01\r\u001b[K     |██▏                             | 20 kB 24.0 MB/s eta 0:00:01\r\u001b[K     |███▏                            | 30 kB 26.5 MB/s eta 0:00:01\r\u001b[K     |████▎                           | 40 kB 28.2 MB/s eta 0:00:01\r\u001b[K     |█████▎                          | 51 kB 30.4 MB/s eta 0:00:01\r\u001b[K     |██████▍                         | 61 kB 33.0 MB/s eta 0:00:01\r\u001b[K     |███████▍                        | 71 kB 32.7 MB/s eta 0:00:01\r\u001b[K     |████████▌                       | 81 kB 33.8 MB/s eta 0:00:01\r\u001b[K     |█████████▌                      | 92 kB 34.8 MB/s eta 0:00:01\r\u001b[K     |██████████▋                     | 102 kB 31.8 MB/s eta 0:00:01\r\u001b[K     |███████████▋                    | 112 kB 31.8 MB/s eta 0:00:01\r\u001b[K     |████████████▊                   | 122 kB 31.8 MB/s eta 0:00:01\r\u001b[K     |█████████████▊                  | 133 kB 31.8 MB/s eta 0:00:01\r\u001b[K     |██████████████▉                 | 143 kB 31.8 MB/s eta 0:00:01\r\u001b[K     |███████████████▉                | 153 kB 31.8 MB/s eta 0:00:01\r\u001b[K     |█████████████████               | 163 kB 31.8 MB/s eta 0:00:01\r\u001b[K     |██████████████████              | 174 kB 31.8 MB/s eta 0:00:01\r\u001b[K     |███████████████████             | 184 kB 31.8 MB/s eta 0:00:01\r\u001b[K     |████████████████████            | 194 kB 31.8 MB/s eta 0:00:01\r\u001b[K     |█████████████████████▏          | 204 kB 31.8 MB/s eta 0:00:01\r\u001b[K     |██████████████████████▏         | 215 kB 31.8 MB/s eta 0:00:01\r\u001b[K     |███████████████████████▎        | 225 kB 31.8 MB/s eta 0:00:01\r\u001b[K     |████████████████████████▎       | 235 kB 31.8 MB/s eta 0:00:01\r\u001b[K     |█████████████████████████▍      | 245 kB 31.8 MB/s eta 0:00:01\r\u001b[K     |██████████████████████████▍     | 256 kB 31.8 MB/s eta 0:00:01\r\u001b[K     |███████████████████████████▌    | 266 kB 31.8 MB/s eta 0:00:01\r\u001b[K     |████████████████████████████▌   | 276 kB 31.8 MB/s eta 0:00:01\r\u001b[K     |█████████████████████████████▋  | 286 kB 31.8 MB/s eta 0:00:01\r\u001b[K     |██████████████████████████████▋ | 296 kB 31.8 MB/s eta 0:00:01\r\u001b[K     |███████████████████████████████▊| 307 kB 31.8 MB/s eta 0:00:01\r\u001b[K     |████████████████████████████████| 310 kB 31.8 MB/s \n",
            "\u001b[?25hRequirement already satisfied: numpy in /usr/local/lib/python3.7/dist-packages (from lightfm) (1.19.5)\n",
            "Requirement already satisfied: scipy>=0.17.0 in /usr/local/lib/python3.7/dist-packages (from lightfm) (1.4.1)\n",
            "Requirement already satisfied: requests in /usr/local/lib/python3.7/dist-packages (from lightfm) (2.23.0)\n",
            "Requirement already satisfied: scikit-learn in /usr/local/lib/python3.7/dist-packages (from lightfm) (1.0.1)\n",
            "Requirement already satisfied: urllib3!=1.25.0,!=1.25.1,<1.26,>=1.21.1 in /usr/local/lib/python3.7/dist-packages (from requests->lightfm) (1.24.3)\n",
            "Requirement already satisfied: chardet<4,>=3.0.2 in /usr/local/lib/python3.7/dist-packages (from requests->lightfm) (3.0.4)\n",
            "Requirement already satisfied: idna<3,>=2.5 in /usr/local/lib/python3.7/dist-packages (from requests->lightfm) (2.10)\n",
            "Requirement already satisfied: certifi>=2017.4.17 in /usr/local/lib/python3.7/dist-packages (from requests->lightfm) (2021.10.8)\n",
            "Requirement already satisfied: joblib>=0.11 in /usr/local/lib/python3.7/dist-packages (from scikit-learn->lightfm) (1.1.0)\n",
            "Requirement already satisfied: threadpoolctl>=2.0.0 in /usr/local/lib/python3.7/dist-packages (from scikit-learn->lightfm) (3.0.0)\n",
            "Building wheels for collected packages: lightfm\n",
            "  Building wheel for lightfm (setup.py) ... \u001b[?25l\u001b[?25hdone\n",
            "  Created wheel for lightfm: filename=lightfm-1.16-cp37-cp37m-linux_x86_64.whl size=705356 sha256=faede31f3a0889e20eb2bfa4daff8e23a71fb11c62932b881cd9b810200becb7\n",
            "  Stored in directory: /root/.cache/pip/wheels/f8/56/28/5772a3bd3413d65f03aa452190b00898b680b10028a1021914\n",
            "Successfully built lightfm\n",
            "Installing collected packages: lightfm\n",
            "Successfully installed lightfm-1.16\n"
          ]
        }
      ]
    },
    {
      "cell_type": "code",
      "metadata": {
        "colab": {
          "base_uri": "https://localhost:8080/"
        },
        "id": "wT2KhENc9fDS",
        "outputId": "31f3fcf5-14f0-4b45-8729-719984158afc"
      },
      "source": [
        "!pip install nmslib\n",
        "import nmslib"
      ],
      "execution_count": 23,
      "outputs": [
        {
          "output_type": "stream",
          "name": "stdout",
          "text": [
            "Collecting nmslib\n",
            "  Downloading nmslib-2.1.1-cp37-cp37m-manylinux2010_x86_64.whl (13.5 MB)\n",
            "\u001b[K     |████████████████████████████████| 13.5 MB 34.9 MB/s \n",
            "\u001b[?25hCollecting pybind11<2.6.2\n",
            "  Downloading pybind11-2.6.1-py2.py3-none-any.whl (188 kB)\n",
            "\u001b[K     |████████████████████████████████| 188 kB 52.0 MB/s \n",
            "\u001b[?25hRequirement already satisfied: psutil in /usr/local/lib/python3.7/dist-packages (from nmslib) (5.4.8)\n",
            "Requirement already satisfied: numpy>=1.10.0 in /usr/local/lib/python3.7/dist-packages (from nmslib) (1.19.5)\n",
            "Installing collected packages: pybind11, nmslib\n",
            "Successfully installed nmslib-2.1.1 pybind11-2.6.1\n"
          ]
        }
      ]
    },
    {
      "cell_type": "code",
      "metadata": {
        "id": "RjDR_ezW5BDq"
      },
      "source": [
        "import pandas as pd\n",
        "from lightfm import LightFM\n",
        "from lightfm.datasets import fetch_movielens"
      ],
      "execution_count": 4,
      "outputs": []
    },
    {
      "cell_type": "code",
      "metadata": {
        "colab": {
          "base_uri": "https://localhost:8080/",
          "height": 293
        },
        "id": "sB7Fpa_S5Xpo",
        "outputId": "0159132f-e5ce-47e9-b2a7-083fbf04b382"
      },
      "source": [
        "movie_lens_data = fetch_movielens()\n",
        "movie_data = pd.DataFrame(movie_lens_data)\n",
        "movie_data.head()"
      ],
      "execution_count": 8,
      "outputs": [
        {
          "output_type": "execute_result",
          "data": {
            "text/html": [
              "<div>\n",
              "<style scoped>\n",
              "    .dataframe tbody tr th:only-of-type {\n",
              "        vertical-align: middle;\n",
              "    }\n",
              "\n",
              "    .dataframe tbody tr th {\n",
              "        vertical-align: top;\n",
              "    }\n",
              "\n",
              "    .dataframe thead th {\n",
              "        text-align: right;\n",
              "    }\n",
              "</style>\n",
              "<table border=\"1\" class=\"dataframe\">\n",
              "  <thead>\n",
              "    <tr style=\"text-align: right;\">\n",
              "      <th></th>\n",
              "      <th>train</th>\n",
              "      <th>test</th>\n",
              "      <th>item_features</th>\n",
              "      <th>item_feature_labels</th>\n",
              "      <th>item_labels</th>\n",
              "    </tr>\n",
              "  </thead>\n",
              "  <tbody>\n",
              "    <tr>\n",
              "      <th>0</th>\n",
              "      <td>(0, 0)\\t5\\n  (0, 1)\\t3\\n  (0, 2)\\t4\\n  (0, 3...</td>\n",
              "      <td>(0, 19)\\t4\\n  (0, 32)\\t4\\n  (0, 60)\\t4\\n  (0...</td>\n",
              "      <td>(0, 0)\\t1.0\\n  (1, 1)\\t1.0\\n  (2, 2)\\t1.0\\n ...</td>\n",
              "      <td>Toy Story (1995)</td>\n",
              "      <td>Toy Story (1995)</td>\n",
              "    </tr>\n",
              "    <tr>\n",
              "      <th>1</th>\n",
              "      <td>(0, 0)\\t5\\n  (0, 1)\\t3\\n  (0, 2)\\t4\\n  (0, 3...</td>\n",
              "      <td>(0, 19)\\t4\\n  (0, 32)\\t4\\n  (0, 60)\\t4\\n  (0...</td>\n",
              "      <td>(0, 0)\\t1.0\\n  (1, 1)\\t1.0\\n  (2, 2)\\t1.0\\n ...</td>\n",
              "      <td>GoldenEye (1995)</td>\n",
              "      <td>GoldenEye (1995)</td>\n",
              "    </tr>\n",
              "    <tr>\n",
              "      <th>2</th>\n",
              "      <td>(0, 0)\\t5\\n  (0, 1)\\t3\\n  (0, 2)\\t4\\n  (0, 3...</td>\n",
              "      <td>(0, 19)\\t4\\n  (0, 32)\\t4\\n  (0, 60)\\t4\\n  (0...</td>\n",
              "      <td>(0, 0)\\t1.0\\n  (1, 1)\\t1.0\\n  (2, 2)\\t1.0\\n ...</td>\n",
              "      <td>Four Rooms (1995)</td>\n",
              "      <td>Four Rooms (1995)</td>\n",
              "    </tr>\n",
              "    <tr>\n",
              "      <th>3</th>\n",
              "      <td>(0, 0)\\t5\\n  (0, 1)\\t3\\n  (0, 2)\\t4\\n  (0, 3...</td>\n",
              "      <td>(0, 19)\\t4\\n  (0, 32)\\t4\\n  (0, 60)\\t4\\n  (0...</td>\n",
              "      <td>(0, 0)\\t1.0\\n  (1, 1)\\t1.0\\n  (2, 2)\\t1.0\\n ...</td>\n",
              "      <td>Get Shorty (1995)</td>\n",
              "      <td>Get Shorty (1995)</td>\n",
              "    </tr>\n",
              "    <tr>\n",
              "      <th>4</th>\n",
              "      <td>(0, 0)\\t5\\n  (0, 1)\\t3\\n  (0, 2)\\t4\\n  (0, 3...</td>\n",
              "      <td>(0, 19)\\t4\\n  (0, 32)\\t4\\n  (0, 60)\\t4\\n  (0...</td>\n",
              "      <td>(0, 0)\\t1.0\\n  (1, 1)\\t1.0\\n  (2, 2)\\t1.0\\n ...</td>\n",
              "      <td>Copycat (1995)</td>\n",
              "      <td>Copycat (1995)</td>\n",
              "    </tr>\n",
              "  </tbody>\n",
              "</table>\n",
              "</div>"
            ],
            "text/plain": [
              "                                               train  ...        item_labels\n",
              "0    (0, 0)\\t5\\n  (0, 1)\\t3\\n  (0, 2)\\t4\\n  (0, 3...  ...   Toy Story (1995)\n",
              "1    (0, 0)\\t5\\n  (0, 1)\\t3\\n  (0, 2)\\t4\\n  (0, 3...  ...   GoldenEye (1995)\n",
              "2    (0, 0)\\t5\\n  (0, 1)\\t3\\n  (0, 2)\\t4\\n  (0, 3...  ...  Four Rooms (1995)\n",
              "3    (0, 0)\\t5\\n  (0, 1)\\t3\\n  (0, 2)\\t4\\n  (0, 3...  ...  Get Shorty (1995)\n",
              "4    (0, 0)\\t5\\n  (0, 1)\\t3\\n  (0, 2)\\t4\\n  (0, 3...  ...     Copycat (1995)\n",
              "\n",
              "[5 rows x 5 columns]"
            ]
          },
          "metadata": {},
          "execution_count": 8
        }
      ]
    },
    {
      "cell_type": "markdown",
      "metadata": {
        "id": "bLpA7QDS6UWe"
      },
      "source": [
        "**Data Preparation**"
      ]
    },
    {
      "cell_type": "code",
      "metadata": {
        "id": "8qggKbj46WtD"
      },
      "source": [
        "train_data = movie_lens_data['train']\n",
        "test_data = movie_lens_data['test']\n",
        "\n",
        "model = LightFM(learning_rate=0.05, loss=\"warp\", no_components=64, item_alpha=0.001)\n",
        "model.fit_partial(train_data, item_features=movie_lens_data['item_features'], epochs=20)\n",
        "\n",
        "item_vectors = movie_lens_data['item_features'] * model.item_embeddings"
      ],
      "execution_count": 11,
      "outputs": []
    },
    {
      "cell_type": "markdown",
      "metadata": {
        "id": "D60p5ERA6up3"
      },
      "source": [
        "fetch the movie names "
      ]
    },
    {
      "cell_type": "code",
      "metadata": {
        "colab": {
          "base_uri": "https://localhost:8080/"
        },
        "id": "eGvY5Qkt6xOC",
        "outputId": "d6c109ac-8580-415c-a65e-8c1a1b817a06"
      },
      "source": [
        "movie_names = movie_lens_data['item_labels']\n",
        "movie_names"
      ],
      "execution_count": 13,
      "outputs": [
        {
          "output_type": "execute_result",
          "data": {
            "text/plain": [
              "array(['Toy Story (1995)', 'GoldenEye (1995)', 'Four Rooms (1995)', ...,\n",
              "       'Sliding Doors (1998)', 'You So Crazy (1994)',\n",
              "       'Scream of Stone (Schrei aus Stein) (1991)'], dtype=object)"
            ]
          },
          "metadata": {},
          "execution_count": 13
        }
      ]
    },
    {
      "cell_type": "markdown",
      "metadata": {
        "id": "vVUjIUED63_T"
      },
      "source": [
        "###**1. Locality Sensitive Hashing**###"
      ]
    },
    {
      "cell_type": "code",
      "metadata": {
        "colab": {
          "base_uri": "https://localhost:8080/"
        },
        "id": "mWmoJ0hf7AM5",
        "outputId": "1efec2b0-ff6a-4d38-fb69-1348bba2e6c3"
      },
      "source": [
        "item_vectors_lsh = item_vectors.copy()\n",
        "movie_names_lsh = movie_names.copy()\n",
        "dimention = item_vectors_lsh.shape[1]\n",
        "vectors = item_vectors_lsh.astype('float32')\n",
        "labels = movie_names_lsh\n",
        "\n",
        "quantizer = faiss.IndexFlatL2(dimention)\n",
        "index = faiss.IndexIVFPQ(quantizer, dimention, 8, 2, 8)\n",
        "index.train(vectors)\n",
        "index.add(vectors)\n",
        "        \n",
        "\n",
        "distances, indices = index.search(item_vectors_lsh[90:91], 10) \n",
        "simlar_movies_names = [labels[i] for i in indices[0]]\n",
        "simlar_movies_names = '\\n'.join(simlar_movies_names)\n",
        "print(f\"Movies similar to {movie_names_lsh[91]} are:\\n* {simlar_movies_names}\")"
      ],
      "execution_count": 15,
      "outputs": [
        {
          "output_type": "stream",
          "name": "stdout",
          "text": [
            "Movies similar to True Romance (1993) are:\n",
            "* Nightmare Before Christmas, The (1993)\n",
            "Fantasia (1940)\n",
            "Hudsucker Proxy, The (1994)\n",
            "Sneakers (1992)\n",
            "Snow White and the Seven Dwarfs (1937)\n",
            "Batman (1989)\n",
            "Aladdin (1992)\n",
            "Beauty and the Beast (1991)\n",
            "Dumbo (1941)\n",
            "Monty Python and the Holy Grail (1974)\n"
          ]
        }
      ]
    },
    {
      "cell_type": "markdown",
      "metadata": {
        "id": "OhYedIFK7T2d"
      },
      "source": [
        "###**2. Exhaustive Search**###"
      ]
    },
    {
      "cell_type": "code",
      "metadata": {
        "colab": {
          "base_uri": "https://localhost:8080/"
        },
        "id": "GKwAo3C-7W9Y",
        "outputId": "c1de3860-26d7-487e-b309-cfeff7810aac"
      },
      "source": [
        "item_vectors_es = item_vectors.copy()\n",
        "movie_names_es = movie_names.copy()\n",
        "vectors_ex = item_vectors_es.astype('float32')\n",
        "labels_ex = movie_names_es\n",
        "index_ex = faiss.IndexFlatL2(item_vectors_es.shape[1])\n",
        "index_ex.add(vectors_ex)\n",
        "\n",
        "distances, indices = index_ex.search(item_vectors_es[90:91], 10) \n",
        "simlar_movies_names = [labels_ex[i] for i in indices[0]]\n",
        "simlar_movies_names = '\\n* '.join(simlar_movies_names)\n",
        "print(f\"Movies similar to {movie_names_es[91]} are:\\n* {simlar_movies_names}\")"
      ],
      "execution_count": 17,
      "outputs": [
        {
          "output_type": "stream",
          "name": "stdout",
          "text": [
            "Movies similar to True Romance (1993) are:\n",
            "* Nightmare Before Christmas, The (1993)\n",
            "* Fantasia (1940)\n",
            "* Beauty and the Beast (1991)\n",
            "* Jumanji (1995)\n",
            "* Heavy Metal (1981)\n",
            "* Akira (1988)\n",
            "* Indian in the Cupboard, The (1995)\n",
            "* 20,000 Leagues Under the Sea (1954)\n",
            "* Cook the Thief His Wife & Her Lover, The (1989)\n",
            "* Lion King, The (1994)\n"
          ]
        }
      ]
    },
    {
      "cell_type": "markdown",
      "metadata": {
        "id": "ZxWUemfb8CZp"
      },
      "source": [
        "Observe that there is a difference in the list of movies that are similar to movie 'True Romance'"
      ]
    },
    {
      "cell_type": "markdown",
      "metadata": {
        "id": "Hzg3I1I88Jk8"
      },
      "source": [
        "###**Product Quantization**###"
      ]
    },
    {
      "cell_type": "code",
      "metadata": {
        "colab": {
          "base_uri": "https://localhost:8080/"
        },
        "id": "XA-7jNBm8MZk",
        "outputId": "6649e75e-9117-45a9-fd99-8eb051835aad"
      },
      "source": [
        "item_vectors_pq = item_vectors.copy()\n",
        "movie_names_pq = movie_names.copy()\n",
        "dimension_pq = item_vectors_pq.shape[1]\n",
        "vectors_pq = item_vectors_pq.astype('float32')\n",
        "labels_pq = movie_names_pq    \n",
        "        \n",
        "quantizer_pq = faiss.IndexFlatL2(dimension_pq)\n",
        "index_pq = faiss.IndexIVFPQ(quantizer_pq,dimension_pq,8,2,8)\n",
        "index_pq.train(vectors_pq)\n",
        "index_pq.add(vectors_pq)\n",
        "\n",
        "distances, indices = index_pq.search(item_vectors_pq[90:91], 10) \n",
        "simlar_movies_names = [labels_pq[i] for i in indices[0]]\n",
        "\n",
        "simlar_movies_names = '\\n* '.join(simlar_movies_names)\n",
        "print(f\"Movies similar to {movie_names_pq[91]} are:\\n* {simlar_movies_names}\")"
      ],
      "execution_count": 19,
      "outputs": [
        {
          "output_type": "stream",
          "name": "stdout",
          "text": [
            "Movies similar to True Romance (1993) are:\n",
            "* Nightmare Before Christmas, The (1993)\n",
            "* Fantasia (1940)\n",
            "* Hudsucker Proxy, The (1994)\n",
            "* Sneakers (1992)\n",
            "* Snow White and the Seven Dwarfs (1937)\n",
            "* Batman (1989)\n",
            "* Aladdin (1992)\n",
            "* Beauty and the Beast (1991)\n",
            "* Dumbo (1941)\n",
            "* Monty Python and the Holy Grail (1974)\n"
          ]
        }
      ]
    },
    {
      "cell_type": "markdown",
      "metadata": {
        "id": "XeHKSUv08aHU"
      },
      "source": [
        "###**Trees and Graphs**###"
      ]
    },
    {
      "cell_type": "code",
      "metadata": {
        "colab": {
          "base_uri": "https://localhost:8080/"
        },
        "id": "_4lXXa448dg9",
        "outputId": "adbb9d5b-9495-474c-ed73-719892418c73"
      },
      "source": [
        "item_vectors_tg = item_vectors.copy()\n",
        "movie_names_tg = movie_names.copy()\n",
        "dimention_trees = item_vectors_tg.shape[1]\n",
        "vectors_trees = item_vectors_tg.astype('float32')\n",
        "labels_trees = movie_names_tg\n",
        "\n",
        "    \n",
        "index_trees = annoy.AnnoyIndex(dimention_trees)\n",
        "for i, vec in enumerate(vectors_trees):\n",
        "  index_trees.add_item(i, vec.tolist())\n",
        "index_trees.build(n_trees=5)\n",
        "\n",
        "indices = index_trees.get_nns_by_vector(item_vectors_tg[91].tolist(), 10)\n",
        "simlar_movies_names = [labels_trees[i] for i in indices]\n",
        "simlar_movies_names = '\\n* '.join(simlar_movies_names)\n",
        "        \n",
        "print(f\"Movies similar to {movie_names_tg[91]} are:\\n* {simlar_movies_names}\")"
      ],
      "execution_count": 22,
      "outputs": [
        {
          "output_type": "stream",
          "name": "stdout",
          "text": [
            "Movies similar to True Romance (1993) are:\n",
            "* True Romance (1993)\n",
            "* Seven (Se7en) (1995)\n",
            "* GoodFellas (1990)\n",
            "* Professional, The (1994)\n",
            "* Swimming with Sharks (1995)\n",
            "* Usual Suspects, The (1995)\n",
            "* Short Cuts (1993)\n",
            "* Casino (1995)\n",
            "* Miller's Crossing (1990)\n",
            "* Reservoir Dogs (1992)\n"
          ]
        },
        {
          "output_type": "stream",
          "name": "stderr",
          "text": [
            "/usr/local/lib/python3.7/dist-packages/ipykernel_launcher.py:8: FutureWarning: The default argument for metric will be removed in future version of Annoy. Please pass metric='angular' explicitly.\n",
            "  \n"
          ]
        }
      ]
    },
    {
      "cell_type": "markdown",
      "metadata": {
        "id": "Nt0Q4rnW9WpX"
      },
      "source": [
        "###**HNSW**###"
      ]
    },
    {
      "cell_type": "code",
      "metadata": {
        "colab": {
          "base_uri": "https://localhost:8080/"
        },
        "id": "0HyaMDW_9aqu",
        "outputId": "aec16aee-3569-468a-d59c-8ff42c233b4e"
      },
      "source": [
        "item_vectors_hnsw = item_vectors.copy()\n",
        "movie_names_hnsw = movie_names.copy()\n",
        "dimention_hnsw = item_vectors_hnsw.shape[1]\n",
        "vectors_hnsw = item_vectors_hnsw.astype('float32')\n",
        "labels_hnsw = movie_names_hnsw\n",
        "            \n",
        "index_hnsw = nmslib.init(method='hnsw', space='cosinesimil')\n",
        "index_hnsw.addDataPointBatch(vectors_hnsw)\n",
        "index_hnsw.createIndex({'post': 2})\n",
        "        \n",
        "    \n",
        "indices = index_hnsw.knnQuery(item_vectors_hnsw[91], k=10)\n",
        "simlar_movies_names = [labels_hnsw[i] for i in indices[0]]\n",
        "simlar_movies_names = '\\n* '.join(simlar_movies_names)\n",
        "\n",
        "print(f\"Movies similar to {movie_names_hnsw[91]} are:\\n* {simlar_movies_names}\")"
      ],
      "execution_count": 24,
      "outputs": [
        {
          "output_type": "stream",
          "name": "stdout",
          "text": [
            "Movies similar to True Romance (1993) are:\n",
            "* True Romance (1993)\n",
            "* Seven (Se7en) (1995)\n",
            "* GoodFellas (1990)\n",
            "* Professional, The (1994)\n",
            "* Killing Zoe (1994)\n",
            "* Swimming with Sharks (1995)\n",
            "* Usual Suspects, The (1995)\n",
            "* Short Cuts (1993)\n",
            "* Clockers (1995)\n",
            "* Casino (1995)\n"
          ]
        }
      ]
    }
  ]
}